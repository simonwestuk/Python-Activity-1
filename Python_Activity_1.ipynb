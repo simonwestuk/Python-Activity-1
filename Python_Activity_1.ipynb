{
 "cells": [
  {
   "cell_type": "markdown",
   "metadata": {},
   "source": [
    "## Code Introduction\n",
    "\n",
    "The code in this cell defines a set of sample functions. These functions perform basic arithmetic operations such as addition, subtraction, multiplication, and division. They can be used to perform mathematical calculations in a program.\n",
    "\n",
    "Here are the functions defined in this cell:\n",
    "\n",
    "- `add(a, b)`: This function takes two parameters `a` and `b` and returns their sum.\n",
    "- `subtract(a, b)`: This function takes two parameters `a` and `b` and returns the difference between `a` and `b`.\n",
    "- `multiply(a, b)`: This function takes two parameters `a` and `b` and returns their product.\n",
    "- `divide(a, b)`: This function takes two parameters `a` and `b` and returns the quotient of `a` divided by `b`. It also performs a check to ensure that the divisor `b` is not zero, raising a `ValueError` if it is.\n",
    "\n",
    "These functions can be called with appropriate arguments to perform arithmetic operations in your program."
   ]
  },
  {
   "cell_type": "code",
   "execution_count": 1,
   "metadata": {},
   "outputs": [],
   "source": [
    "# Cell 1: Sample Functions\n",
    "def add(a, b):\n",
    "    return a + b\n",
    "\n",
    "def subtract(a, b):\n",
    "    return a - b\n",
    "\n",
    "def multiply(a, b):\n",
    "    return a * b\n",
    "\n",
    "def divide(a, b):\n",
    "    if b == 0:\n",
    "        raise ValueError(\"Cannot divide by zero\")\n",
    "    return a / b"
   ]
  }
 ],
 "metadata": {
  "kernelspec": {
   "display_name": "Python 3",
   "language": "python",
   "name": "python3"
  },
  "language_info": {
   "codemirror_mode": {
    "name": "ipython",
    "version": 3
   },
   "file_extension": ".py",
   "mimetype": "text/x-python",
   "name": "python",
   "nbconvert_exporter": "python",
   "pygments_lexer": "ipython3",
   "version": "3.11.4"
  }
 },
 "nbformat": 4,
 "nbformat_minor": 2
}
